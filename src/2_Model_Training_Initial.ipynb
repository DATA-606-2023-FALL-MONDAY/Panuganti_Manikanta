{
  "metadata": {
    "kernelspec": {
      "language": "python",
      "display_name": "Python 3",
      "name": "python3"
    },
    "language_info": {
      "name": "python",
      "version": "3.10.12",
      "mimetype": "text/x-python",
      "codemirror_mode": {
        "name": "ipython",
        "version": 3
      },
      "pygments_lexer": "ipython3",
      "nbconvert_exporter": "python",
      "file_extension": ".py"
    },
    "kaggle": {
      "accelerator": "none",
      "dataSources": [
        {
          "sourceId": 53666,
          "databundleVersionId": 6589269,
          "sourceType": "competition"
        },
        {
          "sourceId": 6507308,
          "sourceType": "datasetVersion",
          "datasetId": 3706667
        }
      ],
      "dockerImageVersionId": 30558,
      "isInternetEnabled": false,
      "language": "python",
      "sourceType": "notebook",
      "isGpuEnabled": false
    },
    "colab": {
      "provenance": []
    }
  },
  "nbformat_minor": 0,
  "nbformat": 4,
  "cells": [
    {
      "cell_type": "markdown",
      "source": [
        "#### Importing required Libraries"
      ],
      "metadata": {
        "_uuid": "8f2839f25d086af736a60e9eeb907d3b93b6e0e5",
        "_cell_guid": "b1076dfc-b9ad-4769-8c92-a6c4dae69d19",
        "id": "TI9JS7Ogq81E"
      }
    },
    {
      "cell_type": "code",
      "source": [
        "import numpy as np\n",
        "import pandas as pd\n",
        "from itertools import groupby\n",
        "import gc"
      ],
      "metadata": {
        "_kg_hide-input": true,
        "execution": {
          "iopub.status.busy": "2023-11-25T20:29:46.336485Z",
          "iopub.execute_input": "2023-11-25T20:29:46.337897Z",
          "iopub.status.idle": "2023-11-25T20:29:46.838825Z",
          "shell.execute_reply.started": "2023-11-25T20:29:46.337843Z",
          "shell.execute_reply": "2023-11-25T20:29:46.836724Z"
        },
        "trusted": true,
        "id": "ubN9aMi3q81G"
      },
      "execution_count": null,
      "outputs": []
    },
    {
      "cell_type": "code",
      "source": [
        "# Reading dataset\n",
        "dataset = pd.read_parquet(\"Zzzs_train.parquet\")"
      ],
      "metadata": {
        "execution": {
          "iopub.status.busy": "2023-11-25T20:29:46.844328Z",
          "iopub.execute_input": "2023-11-25T20:29:46.845032Z",
          "iopub.status.idle": "2023-11-25T20:29:58.685564Z",
          "shell.execute_reply.started": "2023-11-25T20:29:46.844972Z",
          "shell.execute_reply": "2023-11-25T20:29:58.684301Z"
        },
        "trusted": true,
        "id": "UOR5kXsoq81G"
      },
      "execution_count": null,
      "outputs": []
    },
    {
      "cell_type": "code",
      "source": [
        "# Checking the initial 5 rows of the dataset\n",
        "dataset.head()"
      ],
      "metadata": {
        "execution": {
          "iopub.status.busy": "2023-11-25T20:29:58.687044Z",
          "iopub.execute_input": "2023-11-25T20:29:58.687401Z",
          "iopub.status.idle": "2023-11-25T20:29:58.709918Z",
          "shell.execute_reply.started": "2023-11-25T20:29:58.687371Z",
          "shell.execute_reply": "2023-11-25T20:29:58.708789Z"
        },
        "trusted": true,
        "id": "0CpjGY_kq81H",
        "outputId": "36757b89-af1c-43b0-dec3-6f0ae0bcbb28"
      },
      "execution_count": null,
      "outputs": [
        {
          "execution_count": 3,
          "output_type": "execute_result",
          "data": {
            "text/plain": "      series_id  step                 timestamp     anglez    enmo  awake\n0  08db4255286f     0  2018-11-05T10:00:00-0400 -30.845301  0.0447      1\n1  08db4255286f     1  2018-11-05T10:00:05-0400 -34.181801  0.0443      1\n2  08db4255286f     2  2018-11-05T10:00:10-0400 -33.877102  0.0483      1\n3  08db4255286f     3  2018-11-05T10:00:15-0400 -34.282101  0.0680      1\n4  08db4255286f     4  2018-11-05T10:00:20-0400 -34.385799  0.0768      1",
            "text/html": "<div>\n<style scoped>\n    .dataframe tbody tr th:only-of-type {\n        vertical-align: middle;\n    }\n\n    .dataframe tbody tr th {\n        vertical-align: top;\n    }\n\n    .dataframe thead th {\n        text-align: right;\n    }\n</style>\n<table border=\"1\" class=\"dataframe\">\n  <thead>\n    <tr style=\"text-align: right;\">\n      <th></th>\n      <th>series_id</th>\n      <th>step</th>\n      <th>timestamp</th>\n      <th>anglez</th>\n      <th>enmo</th>\n      <th>awake</th>\n    </tr>\n  </thead>\n  <tbody>\n    <tr>\n      <th>0</th>\n      <td>08db4255286f</td>\n      <td>0</td>\n      <td>2018-11-05T10:00:00-0400</td>\n      <td>-30.845301</td>\n      <td>0.0447</td>\n      <td>1</td>\n    </tr>\n    <tr>\n      <th>1</th>\n      <td>08db4255286f</td>\n      <td>1</td>\n      <td>2018-11-05T10:00:05-0400</td>\n      <td>-34.181801</td>\n      <td>0.0443</td>\n      <td>1</td>\n    </tr>\n    <tr>\n      <th>2</th>\n      <td>08db4255286f</td>\n      <td>2</td>\n      <td>2018-11-05T10:00:10-0400</td>\n      <td>-33.877102</td>\n      <td>0.0483</td>\n      <td>1</td>\n    </tr>\n    <tr>\n      <th>3</th>\n      <td>08db4255286f</td>\n      <td>3</td>\n      <td>2018-11-05T10:00:15-0400</td>\n      <td>-34.282101</td>\n      <td>0.0680</td>\n      <td>1</td>\n    </tr>\n    <tr>\n      <th>4</th>\n      <td>08db4255286f</td>\n      <td>4</td>\n      <td>2018-11-05T10:00:20-0400</td>\n      <td>-34.385799</td>\n      <td>0.0768</td>\n      <td>1</td>\n    </tr>\n  </tbody>\n</table>\n</div>"
          },
          "metadata": {}
        }
      ]
    },
    {
      "cell_type": "markdown",
      "source": [
        "#### Feature engineering"
      ],
      "metadata": {
        "id": "p5suLlVVq81H"
      }
    },
    {
      "cell_type": "markdown",
      "source": [
        "Converting the data timestamp into datetime type so that we can extract hour"
      ],
      "metadata": {
        "id": "u2JcdhQFq81H"
      }
    },
    {
      "cell_type": "code",
      "source": [
        "def make_features(df):\n",
        "\n",
        "    df['timestamp'] = pd.to_datetime(df['timestamp']).apply(lambda t: t.tz_localize(None))\n",
        "    df[\"hour\"] = df[\"timestamp\"].dt.hour\n",
        "\n",
        "    periods = 20\n",
        "    df[\"anglez\"] = abs(df[\"anglez\"])\n",
        "    df[\"anglez_diff\"] = df.groupby('series_id')['anglez'].diff(periods=periods).fillna(method=\"bfill\").astype('float16')\n",
        "    df[\"enmo_diff\"] = df.groupby('series_id')['enmo'].diff(periods=periods).fillna(method=\"bfill\").astype('float16')\n",
        "    df[\"anglez_rolling_mean\"] = df[\"anglez\"].rolling(periods,center=True).mean().fillna(method=\"bfill\").fillna(method=\"ffill\").astype('float16')\n",
        "    df[\"enmo_rolling_mean\"] = df[\"enmo\"].rolling(periods,center=True).mean().fillna(method=\"bfill\").fillna(method=\"ffill\").astype('float16')\n",
        "    df[\"anglez_rolling_max\"] = df[\"anglez\"].rolling(periods,center=True).max().fillna(method=\"bfill\").fillna(method=\"ffill\").astype('float16')\n",
        "    df[\"enmo_rolling_max\"] = df[\"enmo\"].rolling(periods,center=True).max().fillna(method=\"bfill\").fillna(method=\"ffill\").astype('float16')\n",
        "    df[\"anglez_rolling_std\"] = df[\"anglez\"].rolling(periods,center=True).std().fillna(method=\"bfill\").fillna(method=\"ffill\").astype('float16')\n",
        "    df[\"enmo_rolling_std\"] = df[\"enmo\"].rolling(periods,center=True).std().fillna(method=\"bfill\").fillna(method=\"ffill\").astype('float16')\n",
        "    df[\"anglez_diff_rolling_mean\"] = df[\"anglez_diff\"].rolling(periods,center=True).mean().fillna(method=\"bfill\").fillna(method=\"ffill\").astype('float16')\n",
        "    df[\"enmo_diff_rolling_mean\"] = df[\"enmo_diff\"].rolling(periods,center=True).mean().fillna(method=\"bfill\").fillna(method=\"ffill\").astype('float16')\n",
        "    df[\"anglez_diff_rolling_max\"] = df[\"anglez_diff\"].rolling(periods,center=True).max().fillna(method=\"bfill\").fillna(method=\"ffill\").astype('float16')\n",
        "    df[\"enmo_diff_rolling_max\"] = df[\"enmo_diff\"].rolling(periods,center=True).max().fillna(method=\"bfill\").fillna(method=\"ffill\").astype('float16')\n",
        "\n",
        "    return df\n",
        "\n",
        "features = [\"hour\",\n",
        "            \"anglez\",\n",
        "            \"anglez_rolling_mean\",\n",
        "            \"anglez_rolling_max\",\n",
        "            \"anglez_rolling_std\",\n",
        "            \"anglez_diff\",\n",
        "            \"anglez_diff_rolling_mean\",\n",
        "            \"anglez_diff_rolling_max\",\n",
        "            \"enmo\",\n",
        "            \"enmo_rolling_mean\",\n",
        "            \"enmo_rolling_max\",\n",
        "            \"enmo_rolling_std\",\n",
        "            \"enmo_diff\",\n",
        "            \"enmo_diff_rolling_mean\",\n",
        "            \"enmo_diff_rolling_max\",\n",
        "           ]"
      ],
      "metadata": {
        "execution": {
          "iopub.status.busy": "2023-11-25T20:29:58.712965Z",
          "iopub.execute_input": "2023-11-25T20:29:58.713961Z",
          "iopub.status.idle": "2023-11-25T20:29:58.732835Z",
          "shell.execute_reply.started": "2023-11-25T20:29:58.713913Z",
          "shell.execute_reply": "2023-11-25T20:29:58.731599Z"
        },
        "trusted": true,
        "id": "uCRUsuB5q81H"
      },
      "execution_count": null,
      "outputs": []
    },
    {
      "cell_type": "markdown",
      "source": [
        "#### Training"
      ],
      "metadata": {
        "id": "iFAcT-Saq81H"
      }
    },
    {
      "cell_type": "code",
      "source": [
        "df   = make_features(dataset)"
      ],
      "metadata": {
        "execution": {
          "iopub.status.busy": "2023-11-25T20:32:33.818121Z",
          "iopub.execute_input": "2023-11-25T20:32:33.818589Z",
          "iopub.status.idle": "2023-11-25T20:38:06.478915Z",
          "shell.execute_reply.started": "2023-11-25T20:32:33.818555Z",
          "shell.execute_reply": "2023-11-25T20:38:06.477543Z"
        },
        "trusted": true,
        "id": "DALwU8GMq81I"
      },
      "execution_count": null,
      "outputs": []
    },
    {
      "cell_type": "code",
      "source": [
        "all_series = df.series_id.unique()\n",
        "train_series = all_series[:28]\n",
        "test_series = all_series[30:35]\n",
        "\n",
        "train_data = df[df['series_id'].isin(train_series)]\n",
        "test_data = df[df['series_id'].isin(test_series)]\n",
        "\n",
        "X_train = train_data[features]\n",
        "y_train = train_data[\"awake\"]\n",
        "X_test = test_data[features]\n",
        "y_test = test_data[\"awake\"]"
      ],
      "metadata": {
        "execution": {
          "iopub.status.busy": "2023-11-25T20:42:17.893852Z",
          "iopub.execute_input": "2023-11-25T20:42:17.894298Z",
          "iopub.status.idle": "2023-11-25T20:42:25.679058Z",
          "shell.execute_reply.started": "2023-11-25T20:42:17.894243Z",
          "shell.execute_reply": "2023-11-25T20:42:25.677687Z"
        },
        "trusted": true,
        "id": "qt-Juqnzq81I"
      },
      "execution_count": null,
      "outputs": []
    },
    {
      "cell_type": "code",
      "source": [
        "# save some memory\n",
        "del df\n",
        "gc.collect();"
      ],
      "metadata": {
        "execution": {
          "iopub.status.busy": "2023-11-25T20:43:39.445430Z",
          "iopub.execute_input": "2023-11-25T20:43:39.445889Z",
          "iopub.status.idle": "2023-11-25T20:43:39.648535Z",
          "shell.execute_reply.started": "2023-11-25T20:43:39.445855Z",
          "shell.execute_reply": "2023-11-25T20:43:39.647096Z"
        },
        "trusted": true,
        "id": "AkB_w7aRq81I"
      },
      "execution_count": null,
      "outputs": []
    },
    {
      "cell_type": "markdown",
      "source": [
        "#### Random Forest Model"
      ],
      "metadata": {
        "id": "tbO8NCfKq81I"
      }
    },
    {
      "cell_type": "code",
      "source": [
        "%%time\n",
        "\n",
        "from sklearn.ensemble import RandomForestClassifier\n",
        "classifier = RandomForestClassifier(n_estimators=50,\n",
        "                                    min_samples_leaf=300,\n",
        "                                    random_state=42,n_jobs=-1)\n",
        "\n",
        "classifier.fit(X_train, y_train)"
      ],
      "metadata": {
        "execution": {
          "iopub.status.busy": "2023-11-25T20:43:42.444959Z",
          "iopub.execute_input": "2023-11-25T20:43:42.446335Z",
          "iopub.status.idle": "2023-11-25T21:08:11.205075Z",
          "shell.execute_reply.started": "2023-11-25T20:43:42.446245Z",
          "shell.execute_reply": "2023-11-25T21:08:11.203617Z"
        },
        "trusted": true,
        "id": "Sn15hYw7q81I",
        "outputId": "d1db3abb-0f65-4fb4-f282-c06ffb5ba6a6"
      },
      "execution_count": null,
      "outputs": [
        {
          "name": "stdout",
          "text": "CPU times: user 1h 31min 50s, sys: 36.8 s, total: 1h 32min 27s\nWall time: 24min 28s\n",
          "output_type": "stream"
        },
        {
          "execution_count": 16,
          "output_type": "execute_result",
          "data": {
            "text/plain": "RandomForestClassifier(min_samples_leaf=300, n_estimators=50, n_jobs=-1,\n                       random_state=42)",
            "text/html": "<style>#sk-container-id-1 {color: black;background-color: white;}#sk-container-id-1 pre{padding: 0;}#sk-container-id-1 div.sk-toggleable {background-color: white;}#sk-container-id-1 label.sk-toggleable__label {cursor: pointer;display: block;width: 100%;margin-bottom: 0;padding: 0.3em;box-sizing: border-box;text-align: center;}#sk-container-id-1 label.sk-toggleable__label-arrow:before {content: \"▸\";float: left;margin-right: 0.25em;color: #696969;}#sk-container-id-1 label.sk-toggleable__label-arrow:hover:before {color: black;}#sk-container-id-1 div.sk-estimator:hover label.sk-toggleable__label-arrow:before {color: black;}#sk-container-id-1 div.sk-toggleable__content {max-height: 0;max-width: 0;overflow: hidden;text-align: left;background-color: #f0f8ff;}#sk-container-id-1 div.sk-toggleable__content pre {margin: 0.2em;color: black;border-radius: 0.25em;background-color: #f0f8ff;}#sk-container-id-1 input.sk-toggleable__control:checked~div.sk-toggleable__content {max-height: 200px;max-width: 100%;overflow: auto;}#sk-container-id-1 input.sk-toggleable__control:checked~label.sk-toggleable__label-arrow:before {content: \"▾\";}#sk-container-id-1 div.sk-estimator input.sk-toggleable__control:checked~label.sk-toggleable__label {background-color: #d4ebff;}#sk-container-id-1 div.sk-label input.sk-toggleable__control:checked~label.sk-toggleable__label {background-color: #d4ebff;}#sk-container-id-1 input.sk-hidden--visually {border: 0;clip: rect(1px 1px 1px 1px);clip: rect(1px, 1px, 1px, 1px);height: 1px;margin: -1px;overflow: hidden;padding: 0;position: absolute;width: 1px;}#sk-container-id-1 div.sk-estimator {font-family: monospace;background-color: #f0f8ff;border: 1px dotted black;border-radius: 0.25em;box-sizing: border-box;margin-bottom: 0.5em;}#sk-container-id-1 div.sk-estimator:hover {background-color: #d4ebff;}#sk-container-id-1 div.sk-parallel-item::after {content: \"\";width: 100%;border-bottom: 1px solid gray;flex-grow: 1;}#sk-container-id-1 div.sk-label:hover label.sk-toggleable__label {background-color: #d4ebff;}#sk-container-id-1 div.sk-serial::before {content: \"\";position: absolute;border-left: 1px solid gray;box-sizing: border-box;top: 0;bottom: 0;left: 50%;z-index: 0;}#sk-container-id-1 div.sk-serial {display: flex;flex-direction: column;align-items: center;background-color: white;padding-right: 0.2em;padding-left: 0.2em;position: relative;}#sk-container-id-1 div.sk-item {position: relative;z-index: 1;}#sk-container-id-1 div.sk-parallel {display: flex;align-items: stretch;justify-content: center;background-color: white;position: relative;}#sk-container-id-1 div.sk-item::before, #sk-container-id-1 div.sk-parallel-item::before {content: \"\";position: absolute;border-left: 1px solid gray;box-sizing: border-box;top: 0;bottom: 0;left: 50%;z-index: -1;}#sk-container-id-1 div.sk-parallel-item {display: flex;flex-direction: column;z-index: 1;position: relative;background-color: white;}#sk-container-id-1 div.sk-parallel-item:first-child::after {align-self: flex-end;width: 50%;}#sk-container-id-1 div.sk-parallel-item:last-child::after {align-self: flex-start;width: 50%;}#sk-container-id-1 div.sk-parallel-item:only-child::after {width: 0;}#sk-container-id-1 div.sk-dashed-wrapped {border: 1px dashed gray;margin: 0 0.4em 0.5em 0.4em;box-sizing: border-box;padding-bottom: 0.4em;background-color: white;}#sk-container-id-1 div.sk-label label {font-family: monospace;font-weight: bold;display: inline-block;line-height: 1.2em;}#sk-container-id-1 div.sk-label-container {text-align: center;}#sk-container-id-1 div.sk-container {/* jupyter's `normalize.less` sets `[hidden] { display: none; }` but bootstrap.min.css set `[hidden] { display: none !important; }` so we also need the `!important` here to be able to override the default hidden behavior on the sphinx rendered scikit-learn.org. See: https://github.com/scikit-learn/scikit-learn/issues/21755 */display: inline-block !important;position: relative;}#sk-container-id-1 div.sk-text-repr-fallback {display: none;}</style><div id=\"sk-container-id-1\" class=\"sk-top-container\"><div class=\"sk-text-repr-fallback\"><pre>RandomForestClassifier(min_samples_leaf=300, n_estimators=50, n_jobs=-1,\n                       random_state=42)</pre><b>In a Jupyter environment, please rerun this cell to show the HTML representation or trust the notebook. <br />On GitHub, the HTML representation is unable to render, please try loading this page with nbviewer.org.</b></div><div class=\"sk-container\" hidden><div class=\"sk-item\"><div class=\"sk-estimator sk-toggleable\"><input class=\"sk-toggleable__control sk-hidden--visually\" id=\"sk-estimator-id-1\" type=\"checkbox\" checked><label for=\"sk-estimator-id-1\" class=\"sk-toggleable__label sk-toggleable__label-arrow\">RandomForestClassifier</label><div class=\"sk-toggleable__content\"><pre>RandomForestClassifier(min_samples_leaf=300, n_estimators=50, n_jobs=-1,\n                       random_state=42)</pre></div></div></div></div></div>"
          },
          "metadata": {}
        }
      ]
    },
    {
      "cell_type": "code",
      "source": [
        "classifier"
      ],
      "metadata": {
        "execution": {
          "iopub.status.busy": "2023-11-25T21:08:11.207896Z",
          "iopub.execute_input": "2023-11-25T21:08:11.208284Z",
          "iopub.status.idle": "2023-11-25T21:08:11.219431Z",
          "shell.execute_reply.started": "2023-11-25T21:08:11.208228Z",
          "shell.execute_reply": "2023-11-25T21:08:11.217641Z"
        },
        "trusted": true,
        "id": "yB4AKUyKq81I",
        "outputId": "93ad64a7-41c4-4913-e706-7e98e34b638f"
      },
      "execution_count": null,
      "outputs": [
        {
          "execution_count": 17,
          "output_type": "execute_result",
          "data": {
            "text/plain": "RandomForestClassifier(min_samples_leaf=300, n_estimators=50, n_jobs=-1,\n                       random_state=42)",
            "text/html": "<style>#sk-container-id-2 {color: black;background-color: white;}#sk-container-id-2 pre{padding: 0;}#sk-container-id-2 div.sk-toggleable {background-color: white;}#sk-container-id-2 label.sk-toggleable__label {cursor: pointer;display: block;width: 100%;margin-bottom: 0;padding: 0.3em;box-sizing: border-box;text-align: center;}#sk-container-id-2 label.sk-toggleable__label-arrow:before {content: \"▸\";float: left;margin-right: 0.25em;color: #696969;}#sk-container-id-2 label.sk-toggleable__label-arrow:hover:before {color: black;}#sk-container-id-2 div.sk-estimator:hover label.sk-toggleable__label-arrow:before {color: black;}#sk-container-id-2 div.sk-toggleable__content {max-height: 0;max-width: 0;overflow: hidden;text-align: left;background-color: #f0f8ff;}#sk-container-id-2 div.sk-toggleable__content pre {margin: 0.2em;color: black;border-radius: 0.25em;background-color: #f0f8ff;}#sk-container-id-2 input.sk-toggleable__control:checked~div.sk-toggleable__content {max-height: 200px;max-width: 100%;overflow: auto;}#sk-container-id-2 input.sk-toggleable__control:checked~label.sk-toggleable__label-arrow:before {content: \"▾\";}#sk-container-id-2 div.sk-estimator input.sk-toggleable__control:checked~label.sk-toggleable__label {background-color: #d4ebff;}#sk-container-id-2 div.sk-label input.sk-toggleable__control:checked~label.sk-toggleable__label {background-color: #d4ebff;}#sk-container-id-2 input.sk-hidden--visually {border: 0;clip: rect(1px 1px 1px 1px);clip: rect(1px, 1px, 1px, 1px);height: 1px;margin: -1px;overflow: hidden;padding: 0;position: absolute;width: 1px;}#sk-container-id-2 div.sk-estimator {font-family: monospace;background-color: #f0f8ff;border: 1px dotted black;border-radius: 0.25em;box-sizing: border-box;margin-bottom: 0.5em;}#sk-container-id-2 div.sk-estimator:hover {background-color: #d4ebff;}#sk-container-id-2 div.sk-parallel-item::after {content: \"\";width: 100%;border-bottom: 1px solid gray;flex-grow: 1;}#sk-container-id-2 div.sk-label:hover label.sk-toggleable__label {background-color: #d4ebff;}#sk-container-id-2 div.sk-serial::before {content: \"\";position: absolute;border-left: 1px solid gray;box-sizing: border-box;top: 0;bottom: 0;left: 50%;z-index: 0;}#sk-container-id-2 div.sk-serial {display: flex;flex-direction: column;align-items: center;background-color: white;padding-right: 0.2em;padding-left: 0.2em;position: relative;}#sk-container-id-2 div.sk-item {position: relative;z-index: 1;}#sk-container-id-2 div.sk-parallel {display: flex;align-items: stretch;justify-content: center;background-color: white;position: relative;}#sk-container-id-2 div.sk-item::before, #sk-container-id-2 div.sk-parallel-item::before {content: \"\";position: absolute;border-left: 1px solid gray;box-sizing: border-box;top: 0;bottom: 0;left: 50%;z-index: -1;}#sk-container-id-2 div.sk-parallel-item {display: flex;flex-direction: column;z-index: 1;position: relative;background-color: white;}#sk-container-id-2 div.sk-parallel-item:first-child::after {align-self: flex-end;width: 50%;}#sk-container-id-2 div.sk-parallel-item:last-child::after {align-self: flex-start;width: 50%;}#sk-container-id-2 div.sk-parallel-item:only-child::after {width: 0;}#sk-container-id-2 div.sk-dashed-wrapped {border: 1px dashed gray;margin: 0 0.4em 0.5em 0.4em;box-sizing: border-box;padding-bottom: 0.4em;background-color: white;}#sk-container-id-2 div.sk-label label {font-family: monospace;font-weight: bold;display: inline-block;line-height: 1.2em;}#sk-container-id-2 div.sk-label-container {text-align: center;}#sk-container-id-2 div.sk-container {/* jupyter's `normalize.less` sets `[hidden] { display: none; }` but bootstrap.min.css set `[hidden] { display: none !important; }` so we also need the `!important` here to be able to override the default hidden behavior on the sphinx rendered scikit-learn.org. See: https://github.com/scikit-learn/scikit-learn/issues/21755 */display: inline-block !important;position: relative;}#sk-container-id-2 div.sk-text-repr-fallback {display: none;}</style><div id=\"sk-container-id-2\" class=\"sk-top-container\"><div class=\"sk-text-repr-fallback\"><pre>RandomForestClassifier(min_samples_leaf=300, n_estimators=50, n_jobs=-1,\n                       random_state=42)</pre><b>In a Jupyter environment, please rerun this cell to show the HTML representation or trust the notebook. <br />On GitHub, the HTML representation is unable to render, please try loading this page with nbviewer.org.</b></div><div class=\"sk-container\" hidden><div class=\"sk-item\"><div class=\"sk-estimator sk-toggleable\"><input class=\"sk-toggleable__control sk-hidden--visually\" id=\"sk-estimator-id-2\" type=\"checkbox\" checked><label for=\"sk-estimator-id-2\" class=\"sk-toggleable__label sk-toggleable__label-arrow\">RandomForestClassifier</label><div class=\"sk-toggleable__content\"><pre>RandomForestClassifier(min_samples_leaf=300, n_estimators=50, n_jobs=-1,\n                       random_state=42)</pre></div></div></div></div></div>"
          },
          "metadata": {}
        }
      ]
    },
    {
      "cell_type": "code",
      "source": [
        "from sklearn import metrics\n",
        "\n",
        "y_test_pred = classifier.predict(X_test)\n",
        "metrics.accuracy_score(y_test, y_test_pred)"
      ],
      "metadata": {
        "execution": {
          "iopub.status.busy": "2023-11-25T21:08:11.221319Z",
          "iopub.execute_input": "2023-11-25T21:08:11.221835Z",
          "iopub.status.idle": "2023-11-25T21:08:17.622558Z",
          "shell.execute_reply.started": "2023-11-25T21:08:11.221793Z",
          "shell.execute_reply": "2023-11-25T21:08:17.620965Z"
        },
        "trusted": true,
        "id": "lK_89vrYq81I",
        "outputId": "d3e6d4a2-2572-43fc-bb60-34e3a29443fc"
      },
      "execution_count": null,
      "outputs": [
        {
          "execution_count": 18,
          "output_type": "execute_result",
          "data": {
            "text/plain": "0.9612693636464951"
          },
          "metadata": {}
        }
      ]
    },
    {
      "cell_type": "markdown",
      "source": [
        "#### ROC Curve"
      ],
      "metadata": {
        "id": "CfG3dykAq81I"
      }
    },
    {
      "cell_type": "code",
      "source": [
        "from sklearn.metrics import roc_curve\n",
        "import matplotlib.pyplot as plt\n",
        "\n",
        "# Calculate the ROC curve\n",
        "fpr, tpr, thresholds = roc_curve(y_test, y_test_pred)\n",
        "\n",
        "# Plot the ROC curve\n",
        "plt.plot(fpr, tpr)\n",
        "plt.xlabel(\"False positive rate\")\n",
        "plt.ylabel(\"True positive rate\")\n",
        "plt.title(\"ROC curve\")\n",
        "plt.show()\n"
      ],
      "metadata": {
        "execution": {
          "iopub.status.busy": "2023-11-25T21:35:29.895647Z",
          "iopub.execute_input": "2023-11-25T21:35:29.896167Z",
          "iopub.status.idle": "2023-11-25T21:35:30.403497Z",
          "shell.execute_reply.started": "2023-11-25T21:35:29.896132Z",
          "shell.execute_reply": "2023-11-25T21:35:30.402344Z"
        },
        "trusted": true,
        "id": "5_s3IHrKq81I",
        "outputId": "ad8520b3-d7aa-4f1e-9d95-b5aeee0332a9"
      },
      "execution_count": null,
      "outputs": [
        {
          "output_type": "display_data",
          "data": {
            "text/plain": "<Figure size 640x480 with 1 Axes>",
            "image/png": "[encoded data removed]"
          },
          "metadata": {}
        }
      ]
    },
    {
      "cell_type": "markdown",
      "source": [
        "#### Saving model"
      ],
      "metadata": {
        "id": "0FR8djjuq81I"
      }
    },
    {
      "cell_type": "code",
      "source": [
        "import pickle"
      ],
      "metadata": {
        "execution": {
          "iopub.status.busy": "2023-11-20T22:53:30.296773Z",
          "iopub.execute_input": "2023-11-20T22:53:30.297133Z",
          "iopub.status.idle": "2023-11-20T22:53:30.304324Z",
          "shell.execute_reply.started": "2023-11-20T22:53:30.297102Z",
          "shell.execute_reply": "2023-11-20T22:53:30.302663Z"
        },
        "trusted": true,
        "id": "RP911H6Eq81I"
      },
      "execution_count": null,
      "outputs": []
    },
    {
      "cell_type": "code",
      "source": [
        "filename = 'finalized_model.sav'\n",
        "pickle.dump(classifier, open(filename, 'wb'))"
      ],
      "metadata": {
        "execution": {
          "iopub.status.busy": "2023-11-20T22:53:30.307786Z",
          "iopub.execute_input": "2023-11-20T22:53:30.308231Z",
          "iopub.status.idle": "2023-11-20T22:53:30.571519Z",
          "shell.execute_reply.started": "2023-11-20T22:53:30.308198Z",
          "shell.execute_reply": "2023-11-20T22:53:30.569922Z"
        },
        "trusted": true,
        "id": "3UjE9tO0q81I"
      },
      "execution_count": null,
      "outputs": []
    },
    {
      "cell_type": "code",
      "source": [
        "from IPython.display import FileLink"
      ],
      "metadata": {
        "execution": {
          "iopub.status.busy": "2023-11-21T00:02:54.495355Z",
          "iopub.execute_input": "2023-11-21T00:02:54.495867Z",
          "iopub.status.idle": "2023-11-21T00:02:54.502751Z",
          "shell.execute_reply.started": "2023-11-21T00:02:54.495834Z",
          "shell.execute_reply": "2023-11-21T00:02:54.501155Z"
        },
        "trusted": true,
        "id": "FplRyBtqq81I"
      },
      "execution_count": null,
      "outputs": []
    },
    {
      "cell_type": "code",
      "source": [
        "FileLink('finalized_model.sav')"
      ],
      "metadata": {
        "execution": {
          "iopub.status.busy": "2023-11-20T23:19:50.170554Z",
          "iopub.execute_input": "2023-11-20T23:19:50.170958Z",
          "iopub.status.idle": "2023-11-20T23:19:50.178379Z",
          "shell.execute_reply.started": "2023-11-20T23:19:50.170930Z",
          "shell.execute_reply": "2023-11-20T23:19:50.176933Z"
        },
        "trusted": true,
        "id": "OHXFvmY9q81J",
        "outputId": "5c07d169-3e07-40b3-9821-f392a7e82295"
      },
      "execution_count": null,
      "outputs": [
        {
          "execution_count": 29,
          "output_type": "execute_result",
          "data": {
            "text/plain": "/kaggle/working/finalized_model.sav",
            "text/html": "<a href='finalized_model.sav' target='_blank'>finalized_model.sav</a><br>"
          },
          "metadata": {}
        }
      ]
    }
  ]
}